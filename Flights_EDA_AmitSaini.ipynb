{
  "nbformat": 4,
  "nbformat_minor": 0,
  "metadata": {
    "colab": {
      "name": "Flights_EDA_AmitSaini.ipynb",
      "provenance": [],
      "collapsed_sections": []
    },
    "kernelspec": {
      "name": "python3",
      "display_name": "Python 3"
    },
    "language_info": {
      "name": "python"
    }
  },
  "cells": [
    {
      "cell_type": "markdown",
      "source": [
        "**1).Problem Statement**\n",
        "\n",
        "\n",
        "```\n",
        "Flight dealy problem\n",
        "```\n",
        "\n"
      ],
      "metadata": {
        "id": "YI8QNu93n2zg"
      }
    },
    {
      "cell_type": "markdown",
      "source": [
        "**Loading Packages and Data**"
      ],
      "metadata": {
        "id": "sU601u37JWG1"
      }
    },
    {
      "cell_type": "code",
      "execution_count": null,
      "metadata": {
        "id": "mkDxorOzSxMq"
      },
      "outputs": [],
      "source": [
        "import pandas as pd\n",
        "import numpy as np\n",
        "import matplotlib.pyplot as plt\n",
        "import seaborn as sns"
      ]
    },
    {
      "cell_type": "code",
      "source": [
        "from google.colab import drive\n",
        "\n",
        "drive.mount('/content/drive')"
      ],
      "metadata": {
        "id": "EDUWBEBUUNTl"
      },
      "execution_count": null,
      "outputs": []
    },
    {
      "cell_type": "code",
      "source": [
        "flights_data = pd.read_csv('/content/drive/MyDrive/Flight Project /DataSet/flights.csv')\n",
        "airports_data=pd.read_csv('/content/drive/MyDrive/Flight Project /DataSet/airports.csv')\n",
        "airlines_data=pd.read_csv('/content/drive/MyDrive/Flight Project /DataSet/airlines.csv')"
      ],
      "metadata": {
        "id": "GUFsAM1LVNTR"
      },
      "execution_count": null,
      "outputs": []
    },
    {
      "cell_type": "code",
      "source": [
        "print('flights dataset size',flights_data.shape)\n",
        "print('airports dataset size',airports_data.shape)\n",
        "print('airlines dataset size', airlines_data.shape)"
      ],
      "metadata": {
        "id": "AnO08nnsYNGb"
      },
      "execution_count": null,
      "outputs": []
    },
    {
      "cell_type": "markdown",
      "source": [
        "***Observations:***\n",
        "\n",
        "\n",
        "```\n",
        "This shows that the train and test data is imported successfully.\n",
        "\n",
        "The flight  data consists of 5819079 training examples with 31 features.\n",
        "\n",
        "The airport  data consists of 322 training examples with 7 features\n",
        "\n",
        "The airline   data consists of 14 training examples with 2 features\n",
        "```\n",
        "\n"
      ],
      "metadata": {
        "id": "dKLYnHXFyEcT"
      }
    },
    {
      "cell_type": "markdown",
      "source": [
        "**Exploratory Data Analysis**"
      ],
      "metadata": {
        "id": "Wpgieyq1zAf7"
      }
    },
    {
      "cell_type": "code",
      "source": [
        "flights_data.columns"
      ],
      "metadata": {
        "id": "Hcs-8frSfLBs"
      },
      "execution_count": null,
      "outputs": []
    },
    {
      "cell_type": "code",
      "source": [
        "airports_data.columns"
      ],
      "metadata": {
        "id": "LGs5X272i-UM"
      },
      "execution_count": null,
      "outputs": []
    },
    {
      "cell_type": "code",
      "source": [
        "airlines_data.columns"
      ],
      "metadata": {
        "id": "dtufRi1OkAck"
      },
      "execution_count": null,
      "outputs": []
    },
    {
      "cell_type": "markdown",
      "source": [
        "**Introduction to dataset**\n",
        "\n",
        "\n",
        "```\n",
        "1.YEAR- scheduled year of flight arrival/departure \n",
        "2.MONTH-scheduled month of flight arrival/departure \n",
        "3.DAY-schedualed day of flight arrival/departure \n",
        "4.DAY_OF_WEEK-schedualed day of week of flight arrival/departure\n",
        "5.AIRLINE-airline operating the flight/An airline is a company that provides air transport services for traveling passengers and freight. Airlines use aircraft to supply these services and may form partnerships or alliances with other airlines for codeshare agreements, in which they both offer and operate the same flight\n",
        "6.FLIGHT_NUMBER-a flight number or flight designator is a code for an airline service consisting of two-character airline designator and a 1 to 4 digit number. For example, \"BA 98\"\n",
        "7.TAIL_NUMBER-A tail number is an alphanumeric code between two and six characters in length used to identify a specific airplane. The alphabetical prefix of a tail number is indicative of an airplane's country of origin. All United States-based tail numbers begin with “N,” Canadian planes begin with “C,” German\n",
        "8.ORIGIN_AIRPORT-Starting point \n",
        "9.DESTINATION_AIRPORT-End point \n",
        "10.SCHEDULED_DEPARTURE-Scheduled Departure Date means the date on which You are originally scheduled to leave on the Trip.\n",
        "11.DEPARTURE_TIME-the time at which a public conveyance is scheduled to depart from a given point of origin\n",
        "12.DEPARTURE_DELAY-departure delay refers to your transport i.e. flight, ferry or cruise ship being delayed, through no fault of your own, beyond your scheduled departure time.\n",
        "13.TAXI_OUT-The Taxi-out time is defined as the time spent by a flight between its actual off-block time (AOBT) and actual take-off time (ATOT)/The difference between the Wheels Off time and Gate Out time, in minutes.\n",
        "14.WHEELS_OFF- The time an aircraft takes off\n",
        "15.SCHEDULED_TIME-the scheduled time: the arranged time, the planned time. noun. Please arrive at the scheduled time. We arranged to meet at 2pm, please don't be late.\n",
        "16.ELAPSED_TIME-Elapsed time is the amount of time that passes from the start of an event to its finish.\n",
        "17.AIR_TIME-Air time is the elapsed time that the aircraft is airborne, regardless of what time-zone the flight began and ended in\n",
        "18.DISTANCE-distance between starting point and ending point \n",
        "19.WHEELS_ON\n",
        "20.TAXI_IN-The difference between the Wheels On time and Gate In time, in minutes\n",
        "21.SCHEDULED_ARRIVAL-Scheduled Arrival Time means the arrival time as stated in the original ticket at the time of booking.\n",
        "22.ARRIVAL_TIME-the time when someone or something arrives, arrived, or will arrive. information on bus arrival and departure times\n",
        "23.ARRIVAL_DELAY-Arrival delay at an airport due to the late arrival of the same aircraft at a previous airport.\n",
        "24.DIVERTED\n",
        "25.CANCELLED\n",
        "26.CANCELLATION_REASON\n",
        "27.AIR_SYSTEM_DELAY\n",
        "28.SECURITY_DELAY\n",
        "29.AIRLINE_DELAY-A flight delay is when an airline flight takes off and/or lands later than its scheduled time\n",
        "30.LATE_AIRCRAFT_DELAY-Late-arriving aircraft: A previous flight with same aircraft arrived late, causing the present flight to depart late\n",
        "31.WEATHER_DELAY\n",
        "```\n",
        "\n"
      ],
      "metadata": {
        "id": "IN39RE04Ljk2"
      }
    },
    {
      "cell_type": "code",
      "source": [
        "airports_data.head()"
      ],
      "metadata": {
        "id": "Q8NuRgk-zGzH"
      },
      "execution_count": null,
      "outputs": []
    },
    {
      "cell_type": "code",
      "source": [
        "airports_data.info()"
      ],
      "metadata": {
        "id": "9sT1NaSV3YYO"
      },
      "execution_count": null,
      "outputs": []
    },
    {
      "cell_type": "code",
      "source": [
        "airports_data.isnull().sum()"
      ],
      "metadata": {
        "id": "UKh8h83u3kh7"
      },
      "execution_count": null,
      "outputs": []
    },
    {
      "cell_type": "code",
      "source": [
        "airports_data.dropna(axis=0,inplace=True )"
      ],
      "metadata": {
        "id": "t2LvTKfN6L90"
      },
      "execution_count": null,
      "outputs": []
    },
    {
      "cell_type": "code",
      "source": [
        "airports_data.isnull().sum().sum()"
      ],
      "metadata": {
        "id": "RR84obI76YTC"
      },
      "execution_count": null,
      "outputs": []
    },
    {
      "cell_type": "code",
      "source": [
        "airlines_data.head()"
      ],
      "metadata": {
        "id": "fyCQV80t6ej9"
      },
      "execution_count": null,
      "outputs": []
    },
    {
      "cell_type": "code",
      "source": [
        "airlines_data.info()"
      ],
      "metadata": {
        "id": "w4XH9Ete6lKf"
      },
      "execution_count": null,
      "outputs": []
    },
    {
      "cell_type": "code",
      "source": [
        "flights_data.head()"
      ],
      "metadata": {
        "id": "FQR7q52H6pMJ"
      },
      "execution_count": null,
      "outputs": []
    },
    {
      "cell_type": "code",
      "source": [
        "flights_data.info()"
      ],
      "metadata": {
        "id": "REWmqtvLF1va"
      },
      "execution_count": null,
      "outputs": []
    },
    {
      "cell_type": "markdown",
      "source": [
        "***observations***\n",
        "\n",
        "\n",
        "```\n",
        "here total 31 columns \n",
        "There are 16 float type variable ,10 int type and 5 object type\n",
        "```\n",
        "\n",
        " "
      ],
      "metadata": {
        "id": "0iewSB76VBHU"
      }
    },
    {
      "cell_type": "markdown",
      "source": [
        "**Missing value**"
      ],
      "metadata": {
        "id": "VgkMwdFrEo8I"
      }
    },
    {
      "cell_type": "code",
      "source": [
        "missing_values=pd.DataFrame()\n",
        "missing_values['feature']=flights_data.columns\n",
        "missing_values['N_Missing']=flights_data.isnull().sum().values\n",
        "missing_values['M_Precent']=flights_data.isnull().sum().values*100/flights_data.shape[0]\n",
        "missing_values"
      ],
      "metadata": {
        "id": "OamADzPgBiBI"
      },
      "execution_count": null,
      "outputs": []
    },
    {
      "cell_type": "markdown",
      "source": [
        "***Observations***\n",
        "\n",
        "\n",
        "```\n",
        "As we can see, we have several features that present missing values. The reason these values are missing could be:\n",
        "-randomly missed information due to the acquision process\n",
        "-values are missed depends on the data (for example canceled flights do not have a take-off time, flights that took off do not have a cancellation reason, etc).\n",
        "\n",
        "To know what method to use to solve the missing values problem a further investigation of the data should be done\n",
        "\n",
        "Lets focuse on the number of canceled flights and see if it is correlated with the missing values of some of the features:\n",
        "```\n",
        "\n"
      ],
      "metadata": {
        "id": "VZdn5dxtwQ0I"
      }
    },
    {
      "cell_type": "code",
      "source": [
        "flights_data['CANCELLED'].unique()"
      ],
      "metadata": {
        "id": "O0RO9h-Cu8RM"
      },
      "execution_count": null,
      "outputs": []
    },
    {
      "cell_type": "markdown",
      "source": [
        "***Observations***\n",
        "\n",
        "\n",
        "```\n",
        "we have only two type of data in cancelled feature \n",
        "flight cancelled =1\n",
        "flight not cancelled =0\n",
        "```\n",
        "\n"
      ],
      "metadata": {
        "id": "AnFVOyrh5V-c"
      }
    },
    {
      "cell_type": "code",
      "source": [
        "flights_data[flights_data['CANCELLED']==1].shape[0]"
      ],
      "metadata": {
        "id": "DcIJW2UjzbWT"
      },
      "execution_count": null,
      "outputs": []
    },
    {
      "cell_type": "markdown",
      "source": [
        "***Observation***\n",
        "\n",
        "\n",
        "```\n",
        "89884 flignts cancelled in fligt data set \n",
        "```\n",
        "\n",
        " "
      ],
      "metadata": {
        "id": "gp_QQYKs50y-"
      }
    },
    {
      "cell_type": "code",
      "source": [
        "flights_data[flights_data['CANCELLED']==1].isnull().sum()"
      ],
      "metadata": {
        "id": "GWufrIuq5Ap5"
      },
      "execution_count": null,
      "outputs": []
    },
    {
      "cell_type": "markdown",
      "source": [
        "***Observation***\n",
        "\n",
        "\n",
        "```\n",
        "for some features all the missing data are caused by the cancellation of the flight. These features are:\n",
        " 'TAIL_NUMBER', 'DEPARTURE_TIME', 'DEPARTURE_DELAY', 'TAXI_OUT', 'WHEELS_OFF'.\n",
        "\n",
        "for some features a great part of missing data is caused by the cancellation of the flight like: \n",
        "'SCHEDULED_TIME', 'ELAPSED_TIME', 'AIR_TIME', 'WHEELS_ON', 'TAXI_IN', 'ARRIVAL_TIME', 'ARRIVAL_DELAY'.\n",
        "\n",
        "for some features the missing values caused by the cancellation of the flight counts for a little % of the total missing values. These features are:\n",
        " 'AIR_SYSTEM_DELAY', 'SECURITY_DELAY', 'AIRLINE_DELAY', 'LATE_AIRCRAFT_DELAY', and 'WEATHER_DELAY'.\n",
        "\n",
        "All the records of the cancelled flights have cancellation_reason\n",
        "```\n",
        "\n"
      ],
      "metadata": {
        "id": "vRG97LQm7wu5"
      }
    },
    {
      "cell_type": "markdown",
      "source": [
        "Lets now investigate the diverted flights."
      ],
      "metadata": {
        "id": "JRtlqBQhNLnd"
      }
    },
    {
      "cell_type": "code",
      "source": [
        "flights_data['DIVERTED'].unique()"
      ],
      "metadata": {
        "id": "SJ5I_4fN6rlw"
      },
      "execution_count": null,
      "outputs": []
    },
    {
      "cell_type": "markdown",
      "source": [
        "***Observations***\n",
        "\n",
        "\n",
        "```\n",
        "we have found two unique vale 1 and 0\n",
        "diverted=1\n",
        "not diverted=0\n",
        "```\n",
        "\n"
      ],
      "metadata": {
        "id": "URQ6_UFaNwpf"
      }
    },
    {
      "cell_type": "code",
      "source": [
        "flights_data[flights_data['DIVERTED']==1].shape[0]"
      ],
      "metadata": {
        "id": "6_zXqpzwNmt0"
      },
      "execution_count": null,
      "outputs": []
    },
    {
      "cell_type": "markdown",
      "source": [
        "***Observation***\n",
        "\n",
        "\n",
        "```\n",
        "We have a total of 15187 diverted flight\n",
        "```\n",
        "\n"
      ],
      "metadata": {
        "id": "S8ZY1ouuOWi5"
      }
    },
    {
      "cell_type": "code",
      "source": [
        "flights_data[flights_data['DIVERTED']==1].isnull().sum()"
      ],
      "metadata": {
        "id": "B8JtNIeQORCE"
      },
      "execution_count": null,
      "outputs": []
    },
    {
      "cell_type": "markdown",
      "source": [
        "***Observations***\n",
        "\n",
        "\n",
        "```\n",
        "for the features in which the number of missing values is mostly caused by the cancellation of the flight, the rest of the missing values is caused by the diverted flights.\n",
        "\n",
        "For features: 'AIR_SYSTEM_DELAY', 'SECURITY_DELAY', 'AIRLINE_DELAY', 'LATE_AIRCRAFT_DELAY', and 'WEATHER_DELAY' the missing values of the diverted flights is only a small % of the overall missing values.\n",
        "```\n",
        "\n"
      ],
      "metadata": {
        "id": "oMkD4m-4O6TQ"
      }
    },
    {
      "cell_type": "markdown",
      "source": [
        "Lets see the flights that have a positive delay"
      ],
      "metadata": {
        "id": "SabVTtSRQgbC"
      }
    },
    {
      "cell_type": "code",
      "source": [
        "flights_data['ARRIVAL_DELAY']"
      ],
      "metadata": {
        "id": "FtS6n4nSOtZ_"
      },
      "execution_count": null,
      "outputs": []
    },
    {
      "cell_type": "code",
      "source": [
        "flights_data[flights_data['ARRIVAL_DELAY']>0].shape[0]"
      ],
      "metadata": {
        "id": "iGUWwVXGQdhc"
      },
      "execution_count": null,
      "outputs": []
    },
    {
      "cell_type": "markdown",
      "source": [
        "***Observations***\n",
        "\n",
        "```\n",
        "2086896 flights are reach the origin point with delay time greter 0\n",
        "```\n",
        "\n"
      ],
      "metadata": {
        "id": "4CiTLCnxRxZU"
      }
    },
    {
      "cell_type": "code",
      "source": [
        "flights_data['DEPARTURE_DELAY']"
      ],
      "metadata": {
        "id": "k41VpPGoQ88L"
      },
      "execution_count": null,
      "outputs": []
    },
    {
      "cell_type": "code",
      "source": [
        "flights_data[flights_data['DEPARTURE_DELAY']>0].shape[0]"
      ],
      "metadata": {
        "id": "MthJBwqjRJ96"
      },
      "execution_count": null,
      "outputs": []
    },
    {
      "cell_type": "markdown",
      "source": [
        "***Observations***\n",
        "\n",
        "\n",
        "```\n",
        "2125618 flights are fly the origin point with delay time greter 0\n",
        "```\n",
        "\n"
      ],
      "metadata": {
        "id": "BUaeQqS9Siqb"
      }
    },
    {
      "cell_type": "code",
      "source": [
        "flights_data[flights_data['DEPARTURE_DELAY']>0].isnull().sum()"
      ],
      "metadata": {
        "id": "ZB_k09FvRUbo"
      },
      "execution_count": null,
      "outputs": []
    },
    {
      "cell_type": "code",
      "source": [
        "flights_data[flights_data['ARRIVAL_DELAY']>0].isnull().sum()"
      ],
      "metadata": {
        "id": "XY14gbF0Tlyw"
      },
      "execution_count": null,
      "outputs": []
    },
    {
      "cell_type": "code",
      "source": [
        "flights_data[flights_data['ARRIVAL_DELAY']>0].head(2)"
      ],
      "metadata": {
        "id": "ZWOCDkGCT5ZZ"
      },
      "execution_count": null,
      "outputs": []
    },
    {
      "cell_type": "markdown",
      "source": [
        "***Observations***\n",
        "\n",
        "\n",
        "```\n",
        "As given in the example, we still have a big part of missing values in the features:\n",
        " 'AIR_SYSTEM_DELAY', 'SECURITY_DELAY', 'AIRLINE_DELAY', 'LATE_AIRCRAFT_DELAY', and 'WEATHER_DELAY'. \n",
        " Therefore, I propose to drop these features. As for others, I think we should devide the data set into 3 parts: normal flights, cancelled flights, and diverted flights. Because each category has its features.\n",
        "```\n",
        "\n"
      ],
      "metadata": {
        "id": "t56x4-h5XNIE"
      }
    },
    {
      "cell_type": "markdown",
      "source": [
        "Lets check for duplicated values."
      ],
      "metadata": {
        "id": "soGSyB_yX0uk"
      }
    },
    {
      "cell_type": "code",
      "source": [
        "flights_data.duplicated().sum()"
      ],
      "metadata": {
        "id": "vZAR8t2DXKqf"
      },
      "execution_count": null,
      "outputs": []
    },
    {
      "cell_type": "markdown",
      "source": [
        "***Observations***\n",
        "\n",
        "\n",
        "```\n",
        "In the dataset no  duplicated value\n",
        "```\n",
        "\n",
        " "
      ],
      "metadata": {
        "id": "sUBDbzWlYHeK"
      }
    },
    {
      "cell_type": "markdown",
      "source": [
        "**Data Cleaning**\n",
        "\n",
        "Missing value\n",
        "\n",
        "\n",
        "```\n",
        "To treat the problem of missing values I propose to divide the table into 3 sets:\n",
        "the normal set, the diverted flights set, and the canceled flights set.\n",
        "This allows us to keep consistent data structure without missing records.\n",
        "Normally, when the part of the data represent a low number of records with alot of missing values we drop these records in we have an intially big dataset. \n",
        "In this case, we could drop the diverted and the canceled flights because they represent less than 2% of all data. However, I prefer to keep these entries in different tables so we can analyze them.\n",
        "```\n",
        "\n"
      ],
      "metadata": {
        "id": "ve_8fTifzObS"
      }
    },
    {
      "cell_type": "code",
      "source": [
        "canceled_flights = flights_data[flights_data['CANCELLED']==1]\n",
        "diverted_flights = flights_data[flights_data['DIVERTED']==1]\n",
        "canceled_flights.shape[0], diverted_flights.shape[0], flights_data.shape[0]"
      ],
      "metadata": {
        "id": "HfTFc4k1YBkY"
      },
      "execution_count": null,
      "outputs": []
    },
    {
      "cell_type": "code",
      "source": [
        "#precent data\n",
        "89884*100/5819079 ,15187*100/5819079"
      ],
      "metadata": {
        "id": "Yg39zkDqzcw4"
      },
      "execution_count": null,
      "outputs": []
    },
    {
      "cell_type": "code",
      "source": [
        "cleaned_flights=flights_data.drop(canceled_flights.index)"
      ],
      "metadata": {
        "id": "wkVIumf81Nzi"
      },
      "execution_count": null,
      "outputs": []
    },
    {
      "cell_type": "code",
      "source": [
        "cleaned_flights=cleaned_flights.drop(diverted_flights.index)"
      ],
      "metadata": {
        "id": "EwHjbbgI2TzG"
      },
      "execution_count": null,
      "outputs": []
    },
    {
      "cell_type": "markdown",
      "source": [
        "Test"
      ],
      "metadata": {
        "id": "sAZPAbID6ykl"
      }
    },
    {
      "cell_type": "code",
      "source": [
        "canceled_flights.shape[0]+diverted_flights.shape[0]+cleaned_flights.shape[0]==flights_data.shape[0]"
      ],
      "metadata": {
        "id": "en42G81y6BS7"
      },
      "execution_count": null,
      "outputs": []
    },
    {
      "cell_type": "markdown",
      "source": [
        "**Now work on the dataset of  canceled_flights** "
      ],
      "metadata": {
        "id": "RC694NTv86Mg"
      }
    },
    {
      "cell_type": "code",
      "source": [
        "canceled_flights.shape"
      ],
      "metadata": {
        "id": "HDluRRoJEvWS"
      },
      "execution_count": null,
      "outputs": []
    },
    {
      "cell_type": "code",
      "source": [
        "m_precent_canceled=canceled_flights.isnull().sum()*100/canceled_flights.shape[0]\n",
        "m_precent_canceled"
      ],
      "metadata": {
        "id": "LHLivlL57TkI"
      },
      "execution_count": null,
      "outputs": []
    },
    {
      "cell_type": "markdown",
      "source": [
        "\n",
        "\n",
        "```\n",
        "Remove the columns which have  more than 30% data missing \n",
        "```\n",
        "\n"
      ],
      "metadata": {
        "id": "YdmWGRHC9e5H"
      }
    },
    {
      "cell_type": "markdown",
      "source": [
        "***Observations***\n",
        "\n",
        "\n",
        "```\n",
        "We only get to keep the Tail number and the scheduled time. All other features are to drop. \n",
        "However, since we cannot find a way to fill the missing values of the tail number, this feature is also dropped.\n",
        "```\n",
        "\n"
      ],
      "metadata": {
        "id": "T85fSUgB-qK2"
      }
    },
    {
      "cell_type": "code",
      "source": [
        "drop_cols=m_precent_canceled[m_precent_canceled>1].index\n",
        "drop_cols"
      ],
      "metadata": {
        "id": "cfQEA_9O9ZNg"
      },
      "execution_count": null,
      "outputs": []
    },
    {
      "cell_type": "code",
      "source": [
        "canceled_flights.drop(drop_cols,axis=1,inplace=True)\n",
        "canceled_flights.shape"
      ],
      "metadata": {
        "id": "BKT1Di1-_rQS"
      },
      "execution_count": null,
      "outputs": []
    },
    {
      "cell_type": "code",
      "source": [
        "canceled_flights['SCHEDULED_TIME'].mode()"
      ],
      "metadata": {
        "id": "C4PAC4WhIm7y"
      },
      "execution_count": null,
      "outputs": []
    },
    {
      "cell_type": "code",
      "source": [
        "canceled_flights['SCHEDULED_TIME']=canceled_flights['SCHEDULED_TIME'].fillna(85)"
      ],
      "metadata": {
        "id": "OuC4iqrwKjLq"
      },
      "execution_count": null,
      "outputs": []
    },
    {
      "cell_type": "code",
      "source": [
        "canceled_flights.isnull().sum()"
      ],
      "metadata": {
        "id": "VoQYqXphJEVB"
      },
      "execution_count": null,
      "outputs": []
    },
    {
      "cell_type": "markdown",
      "source": [
        "Now, we have fixed the canceled flights table. Lets move to the **diverted flights** table."
      ],
      "metadata": {
        "id": "ZkIyfE1iPxZQ"
      }
    },
    {
      "cell_type": "code",
      "source": [
        "diverted_flights.shape"
      ],
      "metadata": {
        "id": "2PvbirBcJ84Q"
      },
      "execution_count": null,
      "outputs": []
    },
    {
      "cell_type": "code",
      "source": [
        "m_precent_diverted=diverted_flights.isnull().sum()*100/diverted_flights.shape[0]\n",
        "m_precent_diverted"
      ],
      "metadata": {
        "id": "jklxcqYlQFQZ"
      },
      "execution_count": null,
      "outputs": []
    },
    {
      "cell_type": "markdown",
      "source": [
        "\n",
        "\n",
        "```\n",
        "Remove the columns which have  more than 30% data missing \n",
        "```\n",
        "\n"
      ],
      "metadata": {
        "id": "hZjl-35yTV3i"
      }
    },
    {
      "cell_type": "code",
      "source": [
        "drop_cols=m_precent_diverted[m_precent_diverted>30].index\n",
        "drop_cols"
      ],
      "metadata": {
        "id": "K30gp3IpSkSb"
      },
      "execution_count": null,
      "outputs": []
    },
    {
      "cell_type": "code",
      "source": [
        "diverted_flights.drop(drop_cols,axis=1,inplace=True)\n",
        "diverted_flights.shape"
      ],
      "metadata": {
        "id": "mT7JgqmWTrOw"
      },
      "execution_count": null,
      "outputs": []
    },
    {
      "cell_type": "code",
      "source": [
        "diverted_flights.isnull().sum()"
      ],
      "metadata": {
        "id": "jA1bEwsrVAYJ"
      },
      "execution_count": null,
      "outputs": []
    },
    {
      "cell_type": "markdown",
      "source": [
        "**Observations**\n",
        "\n",
        "\n",
        "```\n",
        "Lets try to understand the relationship between the rest Scheduled arrival and the missing values of arrival time, wheels on, and taxi in that are time based features about the flight landing\n",
        "```\n",
        "\n"
      ],
      "metadata": {
        "id": "1GfNykK05GeF"
      }
    },
    {
      "cell_type": "code",
      "source": [
        "diverted_flights[['SCHEDULED_ARRIVAL', 'ARRIVAL_TIME', 'WHEELS_ON', 'TAXI_IN']]"
      ],
      "metadata": {
        "id": "H0IW_6CF4Tmu"
      },
      "execution_count": null,
      "outputs": []
    },
    {
      "cell_type": "markdown",
      "source": [
        "**Observations**\n",
        "\n",
        "\n",
        "```\n",
        "As we can see the Taxi in means the duration of time between the arrival and the wheels on instant. \n",
        "This feature could be imputed using the mode value we can even fine tune this imputation by computing the mean value by arrival aeroport, \n",
        "since this time is basically a caracteristic of the aeroport mixed with some weather.\n",
        "\n",
        "for the arrival time, the imputation is quite tricky. I propose to compute the difference in duration between the scheduled arrival and the arrival time. \n",
        "Then, use the median value and add it to the schedule time to imputate the arrival time.\n",
        "\n",
        "As for the wheels on it is simply the arrival time minus the taxi in.\n",
        "```\n",
        "\n"
      ],
      "metadata": {
        "id": "H_-uKk4Y6Vm8"
      }
    },
    {
      "cell_type": "markdown",
      "source": [
        "***Mathematical Observations***\n",
        "\n",
        "\n",
        "```\n",
        "impute the taxi in with the mode of all arrival aeroport.\n",
        "compute the median difference between the scheduled arrival and the arrival time\n",
        "impute the arrival time = median difference + scheduled arrival\n",
        "impute wheels on = arrival time - taxi in.\n",
        "```\n",
        "\n"
      ],
      "metadata": {
        "id": "BAtjgYoW7r1P"
      }
    },
    {
      "cell_type": "code",
      "source": [
        "diverted_flights['TAXI_IN'] = diverted_flights['TAXI_IN'].fillna(diverted_flights['TAXI_IN'].mode()[0])\n",
        "diverted_flights['TAXI_IN'].isnull().sum()"
      ],
      "metadata": {
        "id": "zqyu_LZvAgH4"
      },
      "execution_count": null,
      "outputs": []
    },
    {
      "cell_type": "code",
      "source": [
        "arrival_delay=diverted_flights['ARRIVAL_TIME']-diverted_flights['SCHEDULED_ARRIVAL']\n",
        "arrival_delay.median()"
      ],
      "metadata": {
        "id": "y4Ikzy055hkL"
      },
      "execution_count": null,
      "outputs": []
    },
    {
      "cell_type": "code",
      "source": [
        "diverted_flights['ARRIVAL_TIME']=diverted_flights.apply(lambda x: x['SCHEDULED_ARRIVAL']+237 if np.isnan(x['ARRIVAL_TIME']) else x['ARRIVAL_TIME'], axis=1)"
      ],
      "metadata": {
        "id": "yjJp6is5-RXT"
      },
      "execution_count": null,
      "outputs": []
    },
    {
      "cell_type": "code",
      "source": [
        "diverted_flights['WHEELS_ON']=diverted_flights.apply(lambda x: x['ARRIVAL_TIME']-x['TAXI_IN'] if np.isnan(x['WHEELS_ON']) else x['WHEELS_ON'], axis=1)"
      ],
      "metadata": {
        "id": "h76aFm0R_VoT"
      },
      "execution_count": null,
      "outputs": []
    },
    {
      "cell_type": "code",
      "source": [
        "diverted_flights.isnull().sum()"
      ],
      "metadata": {
        "id": "SidfeU6X_ufx"
      },
      "execution_count": null,
      "outputs": []
    },
    {
      "cell_type": "markdown",
      "source": [
        "Impute the Scheduled time with the mode."
      ],
      "metadata": {
        "id": "b0_6DzdZBp-9"
      }
    },
    {
      "cell_type": "code",
      "source": [
        "diverted_flights['SCHEDULED_TIME'].mode()"
      ],
      "metadata": {
        "id": "E1vwYHm7_5Uf"
      },
      "execution_count": null,
      "outputs": []
    },
    {
      "cell_type": "code",
      "source": [
        "diverted_flights['SCHEDULED_TIME']=diverted_flights['SCHEDULED_TIME'].fillna(140)"
      ],
      "metadata": {
        "id": "6DvYkP8nBh5z"
      },
      "execution_count": null,
      "outputs": []
    },
    {
      "cell_type": "code",
      "source": [
        "diverted_flights.isnull().sum().sum()"
      ],
      "metadata": {
        "id": "OrnaKF11B8CP"
      },
      "execution_count": null,
      "outputs": []
    },
    {
      "cell_type": "markdown",
      "source": [
        "\n",
        "\n",
        "```\n",
        "Now, we have to fix the arrival time and the wheels on time. \n",
        "These features are numerical and represent the time in a hhmm format.\n",
        "\n",
        "fix the arrival time and the wheels on\n",
        "```\n",
        "\n"
      ],
      "metadata": {
        "id": "RDE12fguEO6A"
      }
    },
    {
      "cell_type": "code",
      "source": [
        "def fix_time(x): \n",
        "    if x%100>=60: \n",
        "        x=x+40\n",
        "    if x//100>=24:\n",
        "        x=x-2400\n",
        "    return x"
      ],
      "metadata": {
        "id": "e9B1gf3PCDej"
      },
      "execution_count": null,
      "outputs": []
    },
    {
      "cell_type": "code",
      "source": [
        "diverted_flights['ARRIVAL_TIME'] = diverted_flights['ARRIVAL_TIME'].apply(fix_time)"
      ],
      "metadata": {
        "id": "gE60VDm3EZGC"
      },
      "execution_count": null,
      "outputs": []
    },
    {
      "cell_type": "code",
      "source": [
        "diverted_flights['WHEELS_ON'] = diverted_flights['WHEELS_ON'].apply(fix_time)"
      ],
      "metadata": {
        "id": "ar8GKCewEbj5"
      },
      "execution_count": null,
      "outputs": []
    },
    {
      "cell_type": "code",
      "source": [
        "diverted_flights['WHEELS_ON'].describe()"
      ],
      "metadata": {
        "id": "kdnYvuV0EeaC"
      },
      "execution_count": null,
      "outputs": []
    },
    {
      "cell_type": "markdown",
      "source": [
        "**Cleaned Flights Table**"
      ],
      "metadata": {
        "id": "vbJQTMWuEpHB"
      }
    },
    {
      "cell_type": "markdown",
      "source": [
        "\n",
        "\n",
        "```\n",
        "Remove the columns which have  more than 30% data missing \n",
        "```\n",
        "\n"
      ],
      "metadata": {
        "id": "W5rE7sDZFKhu"
      }
    },
    {
      "cell_type": "code",
      "source": [
        "m_precent_cleaned=cleaned_flights.isnull().sum()*100/cleaned_flights.shape[0]\n",
        "m_precent_cleaned"
      ],
      "metadata": {
        "id": "vs8-dv7jEiHX"
      },
      "execution_count": null,
      "outputs": []
    },
    {
      "cell_type": "code",
      "source": [
        "drop_cols=m_precent_cleaned[m_precent_cleaned>30].index\n",
        "drop_cols"
      ],
      "metadata": {
        "id": "gXXtFv7SEteX"
      },
      "execution_count": null,
      "outputs": []
    },
    {
      "cell_type": "code",
      "source": [
        "cleaned_flights.drop(drop_cols,axis=1,inplace=True)"
      ],
      "metadata": {
        "id": "1nSuGoy1Fx5o"
      },
      "execution_count": null,
      "outputs": []
    },
    {
      "cell_type": "code",
      "source": [
        "cleaned_flights.isnull().sum()"
      ],
      "metadata": {
        "id": "a2SsF870GCVB"
      },
      "execution_count": null,
      "outputs": []
    },
    {
      "cell_type": "markdown",
      "source": [
        "**Observations**\n",
        "\n",
        "\n",
        "```\n",
        "In the obtained table we have features with unique values: DIVERTED and CANCELLED in all three tables. \n",
        "Since we divided each category in a table, I propose to drop these feature\n",
        "\n",
        "drop the 'DIVERTED' and 'CANCELLED' features from all tables.\n",
        "```\n",
        "\n"
      ],
      "metadata": {
        "id": "nl1QFgzNG1Fm"
      }
    },
    {
      "cell_type": "code",
      "source": [
        "cleaned_flights = cleaned_flights.drop(['DIVERTED', 'CANCELLED'], axis=1)\n",
        "diverted_flights = diverted_flights.drop(['DIVERTED', 'CANCELLED'], axis=1)\n",
        "canceled_flights = canceled_flights.drop(['DIVERTED', 'CANCELLED'], axis=1)"
      ],
      "metadata": {
        "id": "PflqGrvWGKiL"
      },
      "execution_count": null,
      "outputs": []
    },
    {
      "cell_type": "markdown",
      "source": [
        "Before moving to the analysis part, lets save these dataframes."
      ],
      "metadata": {
        "id": "CcH0PZYeHYKa"
      }
    },
    {
      "cell_type": "code",
      "source": [
        "cleaned_flights.to_csv('cleaned_flights.csv', index=False)\n",
        "diverted_flights.to_csv('diverted_flights.csv', index=False)\n",
        "canceled_flights.to_csv('canceled_flights.csv', index=False)"
      ],
      "metadata": {
        "id": "X6ZiEtSvHTja"
      },
      "execution_count": null,
      "outputs": []
    },
    {
      "cell_type": "markdown",
      "source": [
        "***Exploratory Data Analysis***\n",
        "\n",
        "\n",
        "```\n",
        "In the EDA process, we continue working using the cleaned_flights table to analyze the different relationships between the variables. \n",
        "The EDA process has 3 main components:\n",
        "\n",
        "-Univariate Analysis\n",
        "-Bivariate Analysis\n",
        "-Multivariate Analysis\n",
        "```\n",
        "\n"
      ],
      "metadata": {
        "id": "qwrNn318Hzm4"
      }
    },
    {
      "cell_type": "markdown",
      "source": [
        "**Univariate Analysis** "
      ],
      "metadata": {
        "id": "E2LWg3ss0xeO"
      }
    },
    {
      "cell_type": "code",
      "source": [
        "plt.figure(figsize=(10,6))\n",
        "cleaned_flights['DEPARTURE_TIME'].hist(bins=1000)\n",
        "plt.xlabel('Departure Time (HHMM)')\n",
        "plt.ylabel('Count')\n",
        "plt.show()"
      ],
      "metadata": {
        "id": "f5AEN4hOHbfi"
      },
      "execution_count": null,
      "outputs": []
    },
    {
      "cell_type": "markdown",
      "source": [
        "**Observations**\n",
        "\n",
        "\n",
        "```\n",
        "From this figure, we can observe that most flights are scheduled for departure between 5 (500) in the morning and 11 (2300) in the afternoon. We can also observe that between midnight and 5 in the morning very few flights are scheduled. \n",
        "This gap exists between each two consecutive hours..\n",
        "```\n",
        "\n"
      ],
      "metadata": {
        "id": "4LTbYY_fHQxW"
      }
    },
    {
      "cell_type": "code",
      "source": [
        "plt.figure(figsize=(10,6))\n",
        "cleaned_flights['DEPARTURE_DELAY'].hist(bins=1000)\n",
        "plt.xlabel('Departure Delay (Minutes)')\n",
        "plt.ylabel('Count')\n",
        "plt.show()"
      ],
      "metadata": {
        "id": "qx0BI5ue07eu"
      },
      "execution_count": null,
      "outputs": []
    },
    {
      "cell_type": "markdown",
      "source": [
        "Lets zoom in on the delays less than 240 minutes (4-hours)."
      ],
      "metadata": {
        "id": "VXDfIx2ZIfG-"
      }
    },
    {
      "cell_type": "code",
      "source": [
        "plt.figure(figsize=(10,6))\n",
        "cleaned_flights['DEPARTURE_DELAY'].hist(bins=1000)\n",
        "plt.xlabel('Departure Delay (Minutes)')\n",
        "plt.xlim((-100,240))\n",
        "plt.ylabel('Count')\n",
        "plt.show()"
      ],
      "metadata": {
        "id": "RKQ4upovIFMi"
      },
      "execution_count": null,
      "outputs": []
    },
    {
      "cell_type": "markdown",
      "source": [
        "\n",
        "\n",
        "```\n",
        "We can see that most flights are actually up to 20 minutes in advance. This is quite unusual\n",
        "```\n",
        "\n"
      ],
      "metadata": {
        "id": "Y4dFn2lHI59b"
      }
    },
    {
      "cell_type": "code",
      "source": [
        "plt.figure(figsize=(10,6))\n",
        "cleaned_flights['SCHEDULED_DEPARTURE'].hist(bins=1000)\n",
        "plt.xlabel('Scheduled Departure (HHMM)')\n",
        "plt.ylabel('Count')\n",
        "plt.show()"
      ],
      "metadata": {
        "id": "pp6HgK_NIkCn"
      },
      "execution_count": null,
      "outputs": []
    },
    {
      "cell_type": "code",
      "source": [
        "plt.figure(figsize=(10,6))\n",
        "cleaned_flights['TAXI_OUT'].hist(bins=100)\n",
        "plt.xlabel('The Duration Between Closing Gate and Wheels Out (Minutes)')\n",
        "plt.ylabel('Count')\n",
        "plt.show()"
      ],
      "metadata": {
        "id": "dg-k392BJNEv"
      },
      "execution_count": null,
      "outputs": []
    },
    {
      "cell_type": "markdown",
      "source": [
        "**Observations**\n",
        "\n",
        "\n",
        "```\n",
        "The distribution of the Taxi out duration is quite skewed to the right. This is quite logica\n",
        "```\n",
        "\n"
      ],
      "metadata": {
        "id": "tb-guk9HJ6it"
      }
    },
    {
      "cell_type": "code",
      "source": [
        "plt.figure(figsize=(10,6))\n",
        "cleaned_flights['ELAPSED_TIME'].hist(bins=1000)\n",
        "plt.xlabel('Duration between Gate Closing and Passenger Out (Minutes)')\n",
        "plt.ylabel('Count')\n",
        "plt.show()"
      ],
      "metadata": {
        "id": "10w5BGUEKArS"
      },
      "execution_count": null,
      "outputs": []
    },
    {
      "cell_type": "markdown",
      "source": [
        "**Observations**\n",
        "\n",
        "\n",
        "```\n",
        "We can observe that the distribution is skewed to the right. This means that most flights are of short length. \n",
        "This can be verified by plotting the Air time and the traveled distance.\n",
        "```\n",
        "\n"
      ],
      "metadata": {
        "id": "QQopCyyQKZG-"
      }
    },
    {
      "cell_type": "code",
      "source": [
        "plt.figure(figsize=(10,6))\n",
        "cleaned_flights['AIR_TIME'].hist(bins=1000)\n",
        "plt.xlabel('Flight Duration (Minutes)')\n",
        "plt.ylabel('Count')\n",
        "plt.show()"
      ],
      "metadata": {
        "id": "X_zJX7jjKLvl"
      },
      "execution_count": null,
      "outputs": []
    },
    {
      "cell_type": "markdown",
      "source": [
        "**Observations**\n",
        "\n",
        "\n",
        "```\n",
        "We can see that the distribution is quite similar to the elapsed time distribution. We can also note the existance of several gaps in the time distribution. \n",
        "Is this due to the trips clusters? (i.e. range of distance?)\n",
        "```\n",
        "\n"
      ],
      "metadata": {
        "id": "o0hBUY6GKuu-"
      }
    },
    {
      "cell_type": "code",
      "source": [
        "plt.figure(figsize=(10,6))\n",
        "cleaned_flights['DISTANCE'].hist(bins=100)\n",
        "plt.xlabel('Trip Distance (mi)')\n",
        "plt.ylabel('Count')\n",
        "plt.show()"
      ],
      "metadata": {
        "id": "ZolvPKeXKp-b"
      },
      "execution_count": null,
      "outputs": []
    },
    {
      "cell_type": "markdown",
      "source": [
        "**Observations**\n",
        "\n",
        "\n",
        "```\n",
        "The traveled distance is also right skewed. However, we cannot see the gabs as in the flight duration! \n",
        "I propose to further investigate this point when we get to the bivariate analysis.\n",
        "```\n",
        "\n"
      ],
      "metadata": {
        "id": "qdz4hXemLHMZ"
      }
    },
    {
      "cell_type": "code",
      "source": [
        "plt.figure(figsize=(10,6))\n",
        "cleaned_flights['ARRIVAL_TIME'].hist(bins=1000)\n",
        "plt.xlabel('Arrival Time (HHMM)')\n",
        "plt.ylabel('Count')\n",
        "plt.show()"
      ],
      "metadata": {
        "id": "kN7J6DfdLC-R"
      },
      "execution_count": null,
      "outputs": []
    },
    {
      "cell_type": "code",
      "source": [
        "plt.figure(figsize=(10,6))\n",
        "cleaned_flights['SCHEDULED_ARRIVAL'].hist(bins=1000)\n",
        "plt.xlabel('Scheduled Arrival (HHMM)')\n",
        "plt.ylabel('Count')\n",
        "plt.show()"
      ],
      "metadata": {
        "id": "9sqX5jF7MDmJ"
      },
      "execution_count": null,
      "outputs": []
    },
    {
      "cell_type": "markdown",
      "source": [
        "**Observations**\n",
        "\n",
        "\n",
        "```\n",
        "In the schedule arrival distribution, we can see the same patterns as in the scheduled departure. \n",
        "Most flights are during the day and very few are in the late night after midnight. \n",
        "Also, the same gab exists between the second half of each hour and the next hour.\n",
        "```\n",
        "\n"
      ],
      "metadata": {
        "id": "XnSwPHODMU4c"
      }
    },
    {
      "cell_type": "code",
      "source": [
        "plt.figure(figsize=(10,6))\n",
        "cleaned_flights['ARRIVAL_DELAY'].hist(bins=1000)\n",
        "plt.xlabel('Arrival Delay (Minutes)')\n",
        "plt.ylabel('Count')\n",
        "plt.show()"
      ],
      "metadata": {
        "id": "qREd7fYQMPQW"
      },
      "execution_count": null,
      "outputs": []
    },
    {
      "cell_type": "markdown",
      "source": [
        "**Observations**\n",
        "\n",
        "\n",
        "```\n",
        "The arrival delay has exactly the same shape of the departure delay. \n",
        "The distribution is right skewed and with most values are negative implying a big number of flights arriving in advance.\n",
        "```\n",
        "\n"
      ],
      "metadata": {
        "id": "NTAZ2WZOMtQB"
      }
    },
    {
      "cell_type": "code",
      "source": [
        "plt.figure(figsize=(10,6))\n",
        "cleaned_flights['TAXI_IN'].hist(bins=1000)\n",
        "plt.xlabel('Landing Duration (Minutes)')\n",
        "plt.ylabel('Count')\n",
        "plt.show()"
      ],
      "metadata": {
        "id": "HE2bC_YeMl5N"
      },
      "execution_count": null,
      "outputs": []
    },
    {
      "cell_type": "markdown",
      "source": [
        "**Observations**\n",
        "\n",
        "\n",
        "```\n",
        "The landing process has almost the same duration needed as the take off.\n",
        "```\n",
        "\n"
      ],
      "metadata": {
        "id": "i7aKqon6NFeP"
      }
    },
    {
      "cell_type": "code",
      "source": [
        "\n",
        "sns.catplot(x='MONTH', kind='count', data=cleaned_flights,color='k')\n",
        "plt.show()"
      ],
      "metadata": {
        "id": "gHBMwWaZM8JC"
      },
      "execution_count": null,
      "outputs": []
    },
    {
      "cell_type": "markdown",
      "source": [
        "**Observations**\n",
        "\n",
        "\n",
        "```\n",
        "From this figure, we can see that the number of flights is quite uniformally distributed over the months. \n",
        "The number of flights in February seems a bit lower that the other months but this could be simply because of the number of days.\n",
        "```\n",
        "\n"
      ],
      "metadata": {
        "id": "tVlSzvdCSWEo"
      }
    },
    {
      "cell_type": "code",
      "source": [
        "sns.catplot(x='DAY_OF_WEEK', kind='count', data=cleaned_flights, color='k')\n",
        "plt.show()"
      ],
      "metadata": {
        "id": "ehxXjMg4Q5Jn"
      },
      "execution_count": null,
      "outputs": []
    },
    {
      "cell_type": "markdown",
      "source": [
        "**Observations**\n",
        "\n",
        "\n",
        "```\n",
        "Lets note that the distribution of the flights is almost uniformally distributed \n",
        "over the days of the week with slightly less flights on the beginning of the weekend (saturday)\n",
        "```\n",
        "\n"
      ],
      "metadata": {
        "id": "-YjEaCZrS2gy"
      }
    },
    {
      "cell_type": "code",
      "source": [
        "cleaned_flights['ORIGIN_AIRPORT'].nunique(), cleaned_flights['DESTINATION_AIRPORT'].nunique()"
      ],
      "metadata": {
        "id": "3h7pTm7fSol6"
      },
      "execution_count": null,
      "outputs": []
    },
    {
      "cell_type": "markdown",
      "source": [
        "**Observations**\n",
        "\n",
        "\n",
        "```\n",
        "We have a big number of airports. Therefore, plotting the number of flights originated from or destinated will not be easy to interpret. \n",
        "Therefore, I propose to present the Top 10 and the Least Common 10 Origin Airports and the Top 10 and Least Common 10 Destinations.\n",
        "```\n",
        "\n"
      ],
      "metadata": {
        "id": "-A_oB7BtTNEV"
      }
    },
    {
      "cell_type": "markdown",
      "source": [
        "Origin Airports:"
      ],
      "metadata": {
        "id": "IcOaIl7EVCwI"
      }
    },
    {
      "cell_type": "code",
      "source": [
        "origin_air_flights = cleaned_flights.groupby('ORIGIN_AIRPORT', as_index=False)['FLIGHT_NUMBER'].count()\n",
        "origin_air_flights.sort_values(by='FLIGHT_NUMBER',inplace=True, ignore_index=True)"
      ],
      "metadata": {
        "id": "4JENPGoeTJgQ"
      },
      "execution_count": null,
      "outputs": []
    },
    {
      "cell_type": "code",
      "source": [
        "origin_air_flights.head(10)"
      ],
      "metadata": {
        "id": "DVI1VMHeTrOx"
      },
      "execution_count": null,
      "outputs": []
    },
    {
      "cell_type": "markdown",
      "source": [
        "**Observations**\n",
        "\n",
        "\n",
        "```\n",
        "If we plot these variables like this we will not be able to fully understand them. \n",
        "We need to get the names of the airport for the plots to be more intuitive. Unfortunatly, we do not have a full list of all airports. \n",
        "So the study is limited to airports in the USA.\n",
        "```\n",
        "\n"
      ],
      "metadata": {
        "id": "u0sw4q5XTz5Z"
      }
    },
    {
      "cell_type": "code",
      "source": [
        "origin_air_flights = origin_air_flights.merge(airports_data[['IATA_CODE', 'AIRPORT', 'STATE', 'COUNTRY']],\n",
        "                                              right_on='IATA_CODE', left_on='ORIGIN_AIRPORT')"
      ],
      "metadata": {
        "id": "HAhN7BdfTtip"
      },
      "execution_count": null,
      "outputs": []
    },
    {
      "cell_type": "code",
      "source": [
        "worst = origin_air_flights.iloc[:10,:]"
      ],
      "metadata": {
        "id": "jYHETmtWUEmE"
      },
      "execution_count": null,
      "outputs": []
    },
    {
      "cell_type": "code",
      "source": [
        "sns.catplot(y='AIRPORT', x='FLIGHT_NUMBER', kind='bar', data=worst, \n",
        "            color='k', aspect=2)\n",
        "plt.xlabel('Number of Flights')\n",
        "plt.ylabel('Origin Airport Name')\n",
        "plt.show()"
      ],
      "metadata": {
        "id": "ernPhXYmUf6Y"
      },
      "execution_count": null,
      "outputs": []
    },
    {
      "cell_type": "code",
      "source": [
        "best = origin_air_flights.iloc[-10:,:]"
      ],
      "metadata": {
        "id": "j7CL0TI_Ujt5"
      },
      "execution_count": null,
      "outputs": []
    },
    {
      "cell_type": "code",
      "source": [
        "sns.catplot(y='AIRPORT', x='FLIGHT_NUMBER', kind='bar', data=best, \n",
        "            color='k', aspect=2)\n",
        "plt.xlabel('Number of Flights')\n",
        "plt.ylabel('Origin Airport Name')\n",
        "plt.show()"
      ],
      "metadata": {
        "id": "I1Aia7DhUswC"
      },
      "execution_count": null,
      "outputs": []
    },
    {
      "cell_type": "markdown",
      "source": [
        "Destination Airports:"
      ],
      "metadata": {
        "id": "02gEpJ8vVOV4"
      }
    },
    {
      "cell_type": "code",
      "source": [
        "dest_air_flights = cleaned_flights.groupby('DESTINATION_AIRPORT', as_index=False)['FLIGHT_NUMBER'].count()\n",
        "dest_air_flights.sort_values(by='FLIGHT_NUMBER',inplace=True, ignore_index=True)"
      ],
      "metadata": {
        "id": "Ord9oSJ7Ux7K"
      },
      "execution_count": null,
      "outputs": []
    },
    {
      "cell_type": "code",
      "source": [
        "dest_air_flights = dest_air_flights.merge(airports_data[['IATA_CODE', 'AIRPORT', 'STATE', 'COUNTRY']],\n",
        "                                              right_on='IATA_CODE', left_on='DESTINATION_AIRPORT')"
      ],
      "metadata": {
        "id": "M2w4LhqLVaUy"
      },
      "execution_count": null,
      "outputs": []
    },
    {
      "cell_type": "code",
      "source": [
        "worst = dest_air_flights.iloc[:10,:]"
      ],
      "metadata": {
        "id": "u7YJTYipVhkt"
      },
      "execution_count": null,
      "outputs": []
    },
    {
      "cell_type": "code",
      "source": [
        "sns.catplot(y='AIRPORT', x='FLIGHT_NUMBER', kind='bar', data=worst, \n",
        "            color='k', aspect=2)\n",
        "plt.xlabel('Number of Flights')\n",
        "plt.ylabel('Destination Airport Name')\n",
        "plt.show()"
      ],
      "metadata": {
        "id": "H7lj_nJzVlDJ"
      },
      "execution_count": null,
      "outputs": []
    },
    {
      "cell_type": "code",
      "source": [
        "best = dest_air_flights.iloc[-10:,:]"
      ],
      "metadata": {
        "id": "5_xsIPqAVy_S"
      },
      "execution_count": null,
      "outputs": []
    },
    {
      "cell_type": "code",
      "source": [
        "sns.catplot(y='AIRPORT', x='FLIGHT_NUMBER', kind='bar', data=best, \n",
        "            color='k', aspect=2)\n",
        "plt.xlabel('Number of Flights')\n",
        "plt.ylabel('Destination Airport Name')\n",
        "plt.show()"
      ],
      "metadata": {
        "id": "vh7K8-ZNVznR"
      },
      "execution_count": null,
      "outputs": []
    },
    {
      "cell_type": "markdown",
      "source": [
        "**Observations**\n",
        "\n",
        "\n",
        "```\n",
        "We can see that the same airports are the best destination and at the same time the most common departure airport. \n",
        "Lets figure out what flight trips are the most common during the whole year.\n",
        "```\n",
        "\n"
      ],
      "metadata": {
        "id": "imeDHKowWELh"
      }
    },
    {
      "cell_type": "code",
      "source": [
        "air_trips = cleaned_flights.groupby(['ORIGIN_AIRPORT', 'DESTINATION_AIRPORT'], as_index=False)['FLIGHT_NUMBER'].count()\n",
        "air_trips.sort_values(by='FLIGHT_NUMBER',inplace=True, ignore_index=True)"
      ],
      "metadata": {
        "id": "Mr64wpTzV2kr"
      },
      "execution_count": null,
      "outputs": []
    },
    {
      "cell_type": "code",
      "source": [
        "air_trips['Trips'] = air_trips.apply(lambda x: str(x['ORIGIN_AIRPORT'])+'-'+str(x['DESTINATION_AIRPORT']),axis=1)"
      ],
      "metadata": {
        "id": "DzSpynXvWZ7m"
      },
      "execution_count": null,
      "outputs": []
    },
    {
      "cell_type": "code",
      "source": [
        "sns.catplot(y='Trips', x='FLIGHT_NUMBER', kind='bar', \n",
        "            data=air_trips.iloc[-10:,:], \n",
        "            color='k', aspect=2)\n",
        "plt.xlabel('Number of Flights')\n",
        "plt.ylabel('Trips')\n",
        "plt.show()"
      ],
      "metadata": {
        "id": "hdUgHplgWeVO"
      },
      "execution_count": null,
      "outputs": []
    },
    {
      "cell_type": "markdown",
      "source": [
        "**Observations**\n",
        "\n",
        "\n",
        "```\n",
        "From this graph, we can see that the most two common trips are from the airport of San Francisco to Los Angeles and the inverse path. We can see that the trips are the most common with a slight difference in the number of flights. \n",
        "This observation is common for all 10 most common trips. From my small experience in the traveling world, most trips are scheduled in a round trip style. \n",
        "Last December when I visited Porto, the flights where scheduled in this way: Paris-Porto-Paris-Porto. In the same day, the airplane do one round trip between Porto and Paris then goes and stays in Porto.\n",
        "```\n",
        "\n"
      ],
      "metadata": {
        "id": "l9n4db5gWn9p"
      }
    },
    {
      "cell_type": "markdown",
      "source": [
        "**Bivarite data analyss** "
      ],
      "metadata": {
        "id": "_vQmiU9_W452"
      }
    },
    {
      "cell_type": "code",
      "source": [
        "sns.scatterplot(x='SCHEDULED_DEPARTURE', y='DEPARTURE_DELAY', data=cleaned_flights, alpha=0.2, linewidth=0)\n",
        "plt.xlabel('Scheduled Departure (HHMM)')\n",
        "plt.ylabel('Departure Delay in Minutes')\n",
        "plt.show()"
      ],
      "metadata": {
        "id": "huGQ9WDkWkfS"
      },
      "execution_count": null,
      "outputs": []
    },
    {
      "cell_type": "markdown",
      "source": [
        "**Observations**\n",
        "\n",
        "\n",
        "```\n",
        "We can see that there is quite a relationship between the departure delay and the scheduled departure time. \n",
        "It seems like the two variables are negatively correlated. \n",
        "The latter the scheduled departure is the less delayed the flight tends to be.\n",
        "```\n",
        "\n"
      ],
      "metadata": {
        "id": "iAT69mO8b1ec"
      }
    },
    {
      "cell_type": "code",
      "source": [
        "sns.scatterplot(x='DEPARTURE_TIME', y='DEPARTURE_DELAY', data=cleaned_flights, alpha=0.2, linewidth=0)\n",
        "plt.xlabel('Departure Time (HHMM)')\n",
        "plt.ylabel('Departure Delay in Minutes')\n",
        "plt.show()"
      ],
      "metadata": {
        "id": "34vw4ncyb1Lt"
      },
      "execution_count": null,
      "outputs": []
    },
    {
      "cell_type": "markdown",
      "source": [
        "**Observations**\n",
        "\n",
        "\n",
        "```\n",
        "This is quite interesting. It seems like the behaviour betwee the actually departure time and the departure delay have a more positive correlation. \n",
        "This is quite logical. Because the actual departure time takes into account the departure delay (or the ahead of its intended departure). \n",
        "Therefore, the relationship should seem more linear.\n",
        "```\n",
        "\n"
      ],
      "metadata": {
        "id": "H-JT3L_ScGBq"
      }
    },
    {
      "cell_type": "code",
      "source": [
        "sns.scatterplot(x='SCHEDULED_DEPARTURE', y='DEPARTURE_TIME', data=cleaned_flights, alpha=0.2, linewidth=0)\n",
        "plt.xlabel('Scheduled Departure (HHMM)')\n",
        "plt.ylabel('Departure Time (HHMM)')\n",
        "plt.show()"
      ],
      "metadata": {
        "id": "hb_XsOcgbr0P"
      },
      "execution_count": null,
      "outputs": []
    },
    {
      "cell_type": "markdown",
      "source": [
        "**Observations**\n",
        "\n",
        "\n",
        "```\n",
        "This scatterpoint curve between the Scheduled departure and the actual departure time proves the previous point. \n",
        "Both variables are quite linearly positively dependent because to think of it:\n",
        "\n",
        "Departure_Time=Scheduled_Departure+Departure_Delay\n",
        " \n",
        "Moreover, the point at the top left corner and those on the bottom right corner are due to the representation of the Scheduled and Departure times in HHMM. \n",
        "Because once the Departure_time exceeds 2359 it moves back to 0. And when the flight is actually ahead of its time (i.e. the delay is negative). \n",
        "We can see a Scheduled_Departure at 0020 moves back to 2350 for example.\n",
        "```\n",
        "\n"
      ],
      "metadata": {
        "id": "hfDuD7Z7cf0B"
      }
    },
    {
      "cell_type": "code",
      "source": [
        "sns.scatterplot(x='SCHEDULED_DEPARTURE', y='TAXI_OUT', data=cleaned_flights, alpha=0.2, linewidth=0)\n",
        "plt.xlabel('Scheduled Departure (HHMM)')\n",
        "plt.ylabel('Taxi Out in Minutes')\n",
        "plt.show()"
      ],
      "metadata": {
        "id": "UsVTZAzjcbJh"
      },
      "execution_count": null,
      "outputs": []
    },
    {
      "cell_type": "markdown",
      "source": [
        "**Observations**\n",
        "\n",
        "\n",
        "```\n",
        "We cannot conclude on the relationship between the two variables. \n",
        "They seem quite independent.\n",
        "```\n",
        "\n"
      ],
      "metadata": {
        "id": "2vzqlAOtc-Sr"
      }
    },
    {
      "cell_type": "code",
      "source": [
        "sns.scatterplot(x='TAXI_OUT', y='DEPARTURE_DELAY', data=cleaned_flights, alpha=0.2, linewidth=0)\n",
        "plt.ylabel('Departure Delay in Minutes')\n",
        "plt.xlabel('Taxi Out in Minutes')\n",
        "plt.show()"
      ],
      "metadata": {
        "id": "stTsIykxc4pT"
      },
      "execution_count": null,
      "outputs": []
    },
    {
      "cell_type": "markdown",
      "source": [
        "**Observations**\n",
        "\n",
        "\n",
        "```\n",
        "It seems like the Departure delay and the duration for taxi out are quite correlated but negatively. \n",
        "We can observe what it looks like an exponential relationship between the variables in which the higher the taxi out duration the lower the departure delay.\n",
        "```\n",
        "\n"
      ],
      "metadata": {
        "id": "8cYg_4umdM01"
      }
    },
    {
      "cell_type": "code",
      "source": [
        "sns.scatterplot(x='SCHEDULED_DEPARTURE', y='SCHEDULED_TIME', data=cleaned_flights, alpha=0.2, linewidth=0)\n",
        "plt.xlabel('Scheduled Departure (HHMM)')\n",
        "plt.ylabel('Estimated Flight Duration in Minutes')\n",
        "plt.show()"
      ],
      "metadata": {
        "id": "feaoajm9dJJg"
      },
      "execution_count": null,
      "outputs": []
    },
    {
      "cell_type": "markdown",
      "source": [
        "**Observations**\n",
        "\n",
        "\n",
        "```\n",
        "We can see that the estimated flight duration is not correlation with the scheduled departure. \n",
        "We can see that the durations of flights are quite uniformally distributed on the scheduled departure. \n",
        "So the scheduling of flight seems to not take into account the duration of the flight\n",
        "```\n",
        "\n"
      ],
      "metadata": {
        "id": "GU0eGyuFdlMN"
      }
    },
    {
      "cell_type": "code",
      "source": [
        "sns.scatterplot(x='SCHEDULED_DEPARTURE', y='ELAPSED_TIME', data=cleaned_flights, alpha=0.2, linewidth=0)\n",
        "plt.xlabel('Scheduled Departure (HHMM)')\n",
        "plt.ylabel('Elapsed Flight Duration in Minutes')\n",
        "plt.show()"
      ],
      "metadata": {
        "id": "dBkPy4_WdiCg"
      },
      "execution_count": null,
      "outputs": []
    },
    {
      "cell_type": "markdown",
      "source": [
        "**Observations**\n",
        "\n",
        "\n",
        "```\n",
        "The same goes for the elapsed time (real flight time).\n",
        "```\n",
        "\n"
      ],
      "metadata": {
        "id": "_JrWuW6rd22_"
      }
    },
    {
      "cell_type": "code",
      "source": [
        "sns.scatterplot(x='SCHEDULED_DEPARTURE', y='AIR_TIME', data=cleaned_flights, alpha=0.2, linewidth=0)\n",
        "plt.xlabel('Scheduled Departure (HHMM)')\n",
        "plt.ylabel('Flight Duration in Air in Minutes')\n",
        "plt.show()"
      ],
      "metadata": {
        "id": "DTpOnC6hd2j5"
      },
      "execution_count": null,
      "outputs": []
    },
    {
      "cell_type": "markdown",
      "source": [
        "**Observations**\n",
        "\n",
        "\n",
        "```\n",
        "Since the elapsed time include the time spent in the air during the flight, it was quite expected to see the same graphe almost.\n",
        "\n",
        "Now, lets see if the actual departure time has an influence on the time spent in the air. \n",
        "I know from my small experience that when the departure is late, pilots tend to speed up during in the air to reduce the delay. \n",
        "Ofcourse, the time spent in the air depends also on other factors like the loading of the airplane, the weather and most importantly the direction of wind\n",
        "```\n",
        "\n"
      ],
      "metadata": {
        "id": "Hhx9fjDQeJv_"
      }
    },
    {
      "cell_type": "code",
      "source": [
        "sns.scatterplot(x='DEPARTURE_TIME', y='AIR_TIME', data=cleaned_flights, alpha=0.2, linewidth=0)\n",
        "plt.xlabel('Departure Time (HHMM)')\n",
        "plt.ylabel('Flight Duration in Air in Minutes')\n",
        "plt.show()"
      ],
      "metadata": {
        "id": "9Hn33wkzdwB6"
      },
      "execution_count": null,
      "outputs": []
    },
    {
      "cell_type": "markdown",
      "source": [
        "**Observations**\n",
        "\n",
        "\n",
        "```\n",
        "Well the graph is quite different from the previous ones but still we cannot conclude on the existance of a relationship. Lets try with the departure delay\n",
        "```\n",
        "\n"
      ],
      "metadata": {
        "id": "jEb_L0tweYS-"
      }
    },
    {
      "cell_type": "code",
      "source": [
        "sns.scatterplot(x='DEPARTURE_DELAY', y='AIR_TIME', data=cleaned_flights, alpha=0.2, linewidth=0)\n",
        "plt.xlabel('Departure Delay in Minutes')\n",
        "plt.ylabel('Flight Duration in Air in Minutes')\n",
        "plt.show()"
      ],
      "metadata": {
        "id": "HJnZRorXeVRv"
      },
      "execution_count": null,
      "outputs": []
    },
    {
      "cell_type": "markdown",
      "source": [
        "**Observations**\n",
        "\n",
        "\n",
        "```\n",
        "Well I guess after all the myth is quite true. The more delayed the flight is the less the duration of the flight in air is. \n",
        "So finally, the pilots seems to speed up in the air to reduce the arrival delay. However, the relationship is not linear.\n",
        " This is due also to multiple factors like distance, loading of the plane, and the direction of wind.\n",
        "\n",
        "Previously we say that the distribution of the duration spent in air presents several gaps and I wondered if those gaps are not caused by the distance to travel.\n",
        "```\n",
        "\n"
      ],
      "metadata": {
        "id": "oUD5bZ-PenTh"
      }
    },
    {
      "cell_type": "code",
      "source": [
        "sns.scatterplot(x='DISTANCE', y='AIR_TIME', data=cleaned_flights, alpha=0.2, linewidth=0)\n",
        "plt.xlabel('Distance in Miles')\n",
        "plt.ylabel('Flight Duration in Air in Minutes')\n",
        "plt.show()"
      ],
      "metadata": {
        "id": "vBdRZg-_ej2e"
      },
      "execution_count": null,
      "outputs": []
    },
    {
      "cell_type": "markdown",
      "source": [
        "**Observations**\n",
        "\n",
        "\n",
        "```\n",
        "Well it is quite logical that the distance is linearly positvely correlated to the duration in the air. \n",
        "This graph also proves that the gaps we saw in the distribution of the air time are caused by the clusters of trips length (i.e. the distance).\n",
        "```\n",
        "\n"
      ],
      "metadata": {
        "id": "T5l1HTkle6Ys"
      }
    },
    {
      "cell_type": "code",
      "source": [
        "sns.scatterplot(y='TAXI_IN', x='SCHEDULED_ARRIVAL', data=cleaned_flights, alpha=0.2, linewidth=0)\n",
        "plt.ylabel('Duration of Landing in Minutes')\n",
        "plt.xlabel('Scheduled Arrival (HHMM)')\n",
        "plt.show()"
      ],
      "metadata": {
        "id": "UAt3EY-Eeyk-"
      },
      "execution_count": null,
      "outputs": []
    },
    {
      "cell_type": "markdown",
      "source": [
        "**Observations**\n",
        "\n",
        "\n",
        "```\n",
        "There is not a clear relationship between the landing duration and the scheduled arrival time. \n",
        "Lets see if the pilots rush the landing.\n",
        "```\n",
        "\n"
      ],
      "metadata": {
        "id": "ZtZ0xEssfHBD"
      }
    },
    {
      "cell_type": "code",
      "source": [
        "sns.scatterplot(y='TAXI_IN', x='ARRIVAL_TIME', data=cleaned_flights, alpha=0.2, linewidth=0)\n",
        "plt.ylabel('Duration of Landing in Minutes')\n",
        "plt.xlabel('Arrival Time (HHMM)')\n",
        "plt.show()"
      ],
      "metadata": {
        "id": "zA2f17I1fECH"
      },
      "execution_count": null,
      "outputs": []
    },
    {
      "cell_type": "code",
      "source": [
        "sns.scatterplot(y='TAXI_IN', x='ARRIVAL_DELAY', data=cleaned_flights, alpha=0.2, linewidth=0)\n",
        "plt.ylabel('Duration of Landing in Minutes')\n",
        "plt.xlabel('Arrival Delay in Minutes')\n",
        "plt.show()"
      ],
      "metadata": {
        "id": "va0StFdGfW1T"
      },
      "execution_count": null,
      "outputs": []
    },
    {
      "cell_type": "markdown",
      "source": [
        "**Observations**\n",
        "\n",
        "\n",
        "```\n",
        "It seems like the pilots rush the landing of the airplane when the flight is behind schedule. The higher the delay is the less time spent by the pilots to land.\n",
        "However, this relationship is not linear it is more exponential. \n",
        "We should keep in mind that several other factors influence this relationship, like the airport (by specifying a tight time window for landing, and how much traffic there is in that hour), the landing is against or with the wind, etc.\n",
        "```\n",
        "\n"
      ],
      "metadata": {
        "id": "T9AJ8da-fjxQ"
      }
    },
    {
      "cell_type": "code",
      "source": [
        "sns.scatterplot(y='DEPARTURE_DELAY', x='ARRIVAL_DELAY', data=cleaned_flights, alpha=0.2, linewidth=0)\n",
        "plt.ylabel('Departure Delay in Minutes')\n",
        "plt.xlabel('Arrival Delay in Minutes')\n",
        "plt.show()"
      ],
      "metadata": {
        "id": "CcxSlemMfdGn"
      },
      "execution_count": null,
      "outputs": []
    },
    {
      "cell_type": "markdown",
      "source": [
        "**Observations**\n",
        "\n",
        "\n",
        "```\n",
        "This relationship is so obvious, once the flight is delayed in the take off it is delayed in the landing. However, \n",
        "this is true after a certain threshold that is computed while taking into account the distance to travel, the wind direction, and how fast the pilot can safely go.\n",
        "```\n",
        "\n"
      ],
      "metadata": {
        "id": "H83YniaVf10D"
      }
    },
    {
      "cell_type": "code",
      "source": [
        "sns.catplot(x='DAY_OF_WEEK', y='DEPARTURE_DELAY', data=cleaned_flights, kind='violin', color='k')\n",
        "plt.xlabel('Day of Week')\n",
        "plt.ylabel('Departure Delay in Minutes')\n",
        "plt.show()"
      ],
      "metadata": {
        "id": "OYzdLtBxfyai"
      },
      "execution_count": null,
      "outputs": []
    },
    {
      "cell_type": "markdown",
      "source": [
        "**Observations**\n",
        "\n",
        "\n",
        "```\n",
        "It seems like the duration of the departure delay is more important when we get closer to the weekends. \n",
        "We have more very long delays. Lets zoom in and see how the dalays are closely.\n",
        "```\n",
        "\n"
      ],
      "metadata": {
        "id": "yj9WutpZgMyx"
      }
    },
    {
      "cell_type": "code",
      "source": [
        "cor = cleaned_flights[[x for x in cleaned_flights.columns if x not in ['YEAR', 'DAY', 'FLIGHT_NUMBER']]].corr()\n",
        "cor"
      ],
      "metadata": {
        "id": "Uxn5Z5ULgBcl"
      },
      "execution_count": null,
      "outputs": []
    },
    {
      "cell_type": "code",
      "source": [
        "fig = plt.figure(figsize=(10,6))\n",
        "ax = fig.add_subplot(1,1,1)\n",
        "sns.heatmap(cor, ax=ax)\n",
        "plt.show()"
      ],
      "metadata": {
        "id": "zro2o1tggXKc"
      },
      "execution_count": null,
      "outputs": []
    },
    {
      "cell_type": "markdown",
      "source": [
        "**Observations**\n",
        "\n",
        "\n",
        "```\n",
        "This obtained heatmap summarize the foundings in this section of the analysis by showing the features that are strongly correlated.\n",
        "```\n",
        "\n"
      ],
      "metadata": {
        "id": "q797QysCglhi"
      }
    },
    {
      "cell_type": "markdown",
      "source": [
        "**Multivarite data analysis**\n",
        "\n",
        "\n",
        "```\n",
        "In this section, I focuse on some of the previous foundings to further investigate them. The idea is to find the relationship between several variables. \n",
        "However, the more variables we add the to plots/analysis the more complicated the analysis becomes. \n",
        "Therefore, I only show two examples on the interactions between three variables.\n",
        "```\n",
        "\n"
      ],
      "metadata": {
        "id": "LyxcCwvYgwtl"
      }
    },
    {
      "cell_type": "code",
      "source": [
        "fig = plt.figure(figsize=(25,6))\n",
        "ax1 = fig.add_subplot(1,5,1)\n",
        "sns.scatterplot(x='TAXI_OUT', y='DEPARTURE_DELAY', \n",
        "                data=cleaned_flights[cleaned_flights['ORIGIN_AIRPORT']==origin_air_flights.iloc[-1,0]],\n",
        "                alpha=0.2, linewidth=0, ax=ax1)\n",
        "plt.ylabel('Departure Delay in Minutes')\n",
        "plt.xlabel('Taxi Out in Minutes')\n",
        "plt.title(origin_air_flights.iloc[-1,3])\n",
        "ax2 = fig.add_subplot(1,5,2)\n",
        "sns.scatterplot(x='TAXI_OUT', y='DEPARTURE_DELAY', \n",
        "                data=cleaned_flights[cleaned_flights['ORIGIN_AIRPORT']==origin_air_flights.iloc[-2,0]],\n",
        "                alpha=0.2, linewidth=0, ax=ax2)\n",
        "plt.ylabel('Departure Delay in Minutes')\n",
        "plt.xlabel('Taxi Out in Minutes')\n",
        "plt.title(origin_air_flights.iloc[-2,3])\n",
        "ax3 = fig.add_subplot(1,5,3)\n",
        "sns.scatterplot(x='TAXI_OUT', y='DEPARTURE_DELAY', \n",
        "                data=cleaned_flights[cleaned_flights['ORIGIN_AIRPORT']==origin_air_flights.iloc[-3,0]],\n",
        "                alpha=0.2, linewidth=0, ax=ax3)\n",
        "plt.ylabel('Departure Delay in Minutes')\n",
        "plt.xlabel('Taxi Out in Minutes')\n",
        "plt.title(origin_air_flights.iloc[-3,3])\n",
        "ax4 = fig.add_subplot(1,5,4)\n",
        "sns.scatterplot(x='TAXI_OUT', y='DEPARTURE_DELAY', \n",
        "                data=cleaned_flights[cleaned_flights['ORIGIN_AIRPORT']==origin_air_flights.iloc[-4,0]],\n",
        "                alpha=0.2, linewidth=0, ax=ax4)\n",
        "plt.ylabel('Departure Delay in Minutes')\n",
        "plt.xlabel('Taxi Out in Minutes')\n",
        "plt.title(origin_air_flights.iloc[-4,3])\n",
        "ax5 = fig.add_subplot(1,5,5)\n",
        "sns.scatterplot(x='TAXI_OUT', y='DEPARTURE_DELAY', \n",
        "                data=cleaned_flights[cleaned_flights['ORIGIN_AIRPORT']==origin_air_flights.iloc[-5,0]],\n",
        "                alpha=0.2, linewidth=0, ax=ax5)\n",
        "plt.ylabel('Departure Delay in Minutes')\n",
        "plt.xlabel('Taxi Out in Minutes')\n",
        "plt.title(origin_air_flights.iloc[-5,3])\n",
        "plt.tight_layout()\n",
        "plt.show()"
      ],
      "metadata": {
        "id": "A0xdwvIZgeev"
      },
      "execution_count": null,
      "outputs": []
    },
    {
      "cell_type": "markdown",
      "source": [
        "**Observations**\n",
        "\n",
        "\n",
        "```\n",
        "By Comparing the behaviour of the take off duration and the departure duration between the most common departure airports. \n",
        "we can see that the airport have an influence of these variables. We can see that the departure delay and the take off durations are more disperse for the Chicago O'Hare airport compared to other airports.\n",
        "```\n",
        "\n"
      ],
      "metadata": {
        "id": "8MKWPpyDhmIe"
      }
    },
    {
      "cell_type": "code",
      "source": [
        "fig = plt.figure(figsize=(25,6))\n",
        "ax1 = fig.add_subplot(1,5,1)\n",
        "sns.scatterplot(x='TAXI_IN', y='ARRIVAL_DELAY', \n",
        "                data=cleaned_flights[cleaned_flights['DESTINATION_AIRPORT']==dest_air_flights.iloc[-1,0]],\n",
        "                alpha=0.2, linewidth=0, ax=ax1)\n",
        "plt.ylabel('Arrival Delay in Minutes')\n",
        "plt.xlabel('Taxi In in Minutes')\n",
        "plt.title(dest_air_flights.iloc[-1,3])\n",
        "ax2 = fig.add_subplot(1,5,2)\n",
        "sns.scatterplot(x='TAXI_IN', y='ARRIVAL_DELAY', \n",
        "                data=cleaned_flights[cleaned_flights['DESTINATION_AIRPORT']==dest_air_flights.iloc[-2,0]],\n",
        "                alpha=0.2, linewidth=0, ax=ax2)\n",
        "plt.ylabel('Arrival Delay in Minutes')\n",
        "plt.xlabel('Taxi In in Minutes')\n",
        "plt.title(dest_air_flights.iloc[-2,3])\n",
        "ax3 = fig.add_subplot(1,5,3)\n",
        "sns.scatterplot(x='TAXI_IN', y='ARRIVAL_DELAY', \n",
        "                data=cleaned_flights[cleaned_flights['DESTINATION_AIRPORT']==dest_air_flights.iloc[-3,0]],\n",
        "                alpha=0.2, linewidth=0, ax=ax3)\n",
        "plt.ylabel('Arrival Delay in Minutes')\n",
        "plt.xlabel('Taxi In in Minutes')\n",
        "plt.title(dest_air_flights.iloc[-3,3])\n",
        "ax4 = fig.add_subplot(1,5,4)\n",
        "sns.scatterplot(x='TAXI_IN', y='ARRIVAL_DELAY', \n",
        "                data=cleaned_flights[cleaned_flights['DESTINATION_AIRPORT']==dest_air_flights.iloc[-4,0]],\n",
        "                alpha=0.2, linewidth=0, ax=ax4)\n",
        "plt.ylabel('Arrival Delay in Minutes')\n",
        "plt.xlabel('Taxi In in Minutes')\n",
        "plt.title(dest_air_flights.iloc[-4,3])\n",
        "ax5 = fig.add_subplot(1,5,5)\n",
        "sns.scatterplot(x='TAXI_IN', y='ARRIVAL_DELAY', \n",
        "                data=cleaned_flights[cleaned_flights['DESTINATION_AIRPORT']==dest_air_flights.iloc[-5,0]],\n",
        "                alpha=0.2, linewidth=0, ax=ax5)\n",
        "plt.ylabel('Arrival Delay in Minutes')\n",
        "plt.xlabel('Taxi In in Minutes')\n",
        "plt.title(dest_air_flights.iloc[-5,3])\n",
        "plt.tight_layout()\n",
        "plt.show()"
      ],
      "metadata": {
        "id": "hCUFPGe1hcZ6"
      },
      "execution_count": null,
      "outputs": []
    },
    {
      "cell_type": "markdown",
      "source": [
        "**Observations**\n",
        "\n",
        "\n",
        "```\n",
        "We can see that the distributions are influenced by the destination airport.\n",
        "```\n",
        "\n"
      ],
      "metadata": {
        "id": "tTAVFsLrh-Qu"
      }
    },
    {
      "cell_type": "code",
      "source": [
        "fig = plt.figure(figsize=(25,6))\n",
        "ax1 = fig.add_subplot(1,5,1)\n",
        "sns.scatterplot(x='DISTANCE', y='AIR_TIME', \n",
        "                data=cleaned_flights[cleaned_flights['ORIGIN_AIRPORT']==origin_air_flights.iloc[-1,0]],\n",
        "                alpha=0.2, linewidth=0, ax=ax1)\n",
        "plt.xlabel('Distance in Miles')\n",
        "plt.ylabel('Flight Duration in Air in Minutes')\n",
        "plt.title(origin_air_flights.iloc[-1,3])\n",
        "ax2 = fig.add_subplot(1,5,2)\n",
        "sns.scatterplot(x='DISTANCE', y='AIR_TIME', \n",
        "                data=cleaned_flights[cleaned_flights['ORIGIN_AIRPORT']==origin_air_flights.iloc[-2,0]],\n",
        "                alpha=0.2, linewidth=0, ax=ax2)\n",
        "plt.xlabel('Distance in Miles')\n",
        "plt.ylabel('Flight Duration in Air in Minutes')\n",
        "plt.title(origin_air_flights.iloc[-2,3])\n",
        "ax3 = fig.add_subplot(1,5,3)\n",
        "sns.scatterplot(x='DISTANCE', y='AIR_TIME', \n",
        "                data=cleaned_flights[cleaned_flights['ORIGIN_AIRPORT']==origin_air_flights.iloc[-3,0]],\n",
        "                alpha=0.2, linewidth=0, ax=ax3)\n",
        "plt.xlabel('Distance in Miles')\n",
        "plt.ylabel('Flight Duration in Air in Minutes')\n",
        "plt.title(origin_air_flights.iloc[-3,3])\n",
        "ax4 = fig.add_subplot(1,5,4)\n",
        "sns.scatterplot(x='DISTANCE', y='AIR_TIME', \n",
        "                data=cleaned_flights[cleaned_flights['ORIGIN_AIRPORT']==origin_air_flights.iloc[-4,0]],\n",
        "                alpha=0.2, linewidth=0, ax=ax4)\n",
        "plt.xlabel('Distance in Miles')\n",
        "plt.ylabel('Flight Duration in Air in Minutes')\n",
        "plt.title(origin_air_flights.iloc[-4,3])\n",
        "ax5 = fig.add_subplot(1,5,5)\n",
        "sns.scatterplot(x='DISTANCE', y='AIR_TIME', \n",
        "                data=cleaned_flights[cleaned_flights['ORIGIN_AIRPORT']==origin_air_flights.iloc[-5,0]],\n",
        "                alpha=0.2, linewidth=0, ax=ax5)\n",
        "plt.xlabel('Distance in Miles')\n",
        "plt.ylabel('Flight Duration in Air in Minutes')\n",
        "plt.title(origin_air_flights.iloc[-5,3])\n",
        "plt.tight_layout()\n",
        "plt.show()"
      ],
      "metadata": {
        "id": "f4dBGH4Fh7GH"
      },
      "execution_count": null,
      "outputs": []
    },
    {
      "cell_type": "markdown",
      "source": [
        "**Observations**\n",
        "\n",
        "\n",
        "```\n",
        "We can see from the graph of Los Angeles Airport the distance in miles and the flight duration are actually divided by cluster of trip.\n",
        "\n",
        "To further investigate this point, I propose to create a trip feature in the cleaned_flights table and then plot the relationship between the distance of the trip and the flight duration in air.\n",
        "```\n",
        "\n"
      ],
      "metadata": {
        "id": "ddKjvTgDihQ0"
      }
    },
    {
      "cell_type": "code",
      "source": [
        "cleaned_flights['Trips'] = cleaned_flights.apply(lambda x: str(x['ORIGIN_AIRPORT'])+'-'+str(x['DESTINATION_AIRPORT']),axis=1)"
      ],
      "metadata": {
        "id": "FcnGkVE9ibnm"
      },
      "execution_count": null,
      "outputs": []
    },
    {
      "cell_type": "code",
      "source": [
        "t = air_trips[air_trips['ORIGIN_AIRPORT'].isin(origin_air_flights.iloc[-5:,0].values)].iloc[-20:,3].values.tolist()"
      ],
      "metadata": {
        "id": "hY-wtHjeirUM"
      },
      "execution_count": null,
      "outputs": []
    },
    {
      "cell_type": "code",
      "source": [
        "aaa = cleaned_flights[cleaned_flights['Trips'].isin(t)]"
      ],
      "metadata": {
        "id": "EDMfo4ZWit4w"
      },
      "execution_count": null,
      "outputs": []
    },
    {
      "cell_type": "code",
      "source": [
        "fig = plt.figure(figsize=(25,6))\n",
        "ax1 = fig.add_subplot(1,5,1)\n",
        "sns.scatterplot(x='DISTANCE', y='AIR_TIME', hue='Trips',\n",
        "                data=aaa[aaa['ORIGIN_AIRPORT']==origin_air_flights.iloc[-1,0]],\n",
        "                alpha=0.2, linewidth=0, ax=ax1, legend=False)\n",
        "plt.xlabel('Distance in Miles')\n",
        "plt.ylabel('Flight Duration in Air in Minutes')\n",
        "plt.title(origin_air_flights.iloc[-1,3])\n",
        "ax2 = fig.add_subplot(1,5,2)\n",
        "sns.scatterplot(x='DISTANCE', y='AIR_TIME', hue='Trips',\n",
        "                data=aaa[aaa['ORIGIN_AIRPORT']==origin_air_flights.iloc[-2,0]],\n",
        "                alpha=0.2, linewidth=0, ax=ax2, legend=False)\n",
        "plt.xlabel('Distance in Miles')\n",
        "plt.ylabel('Flight Duration in Air in Minutes')\n",
        "plt.title(origin_air_flights.iloc[-2,3])\n",
        "ax3 = fig.add_subplot(1,5,3)\n",
        "sns.scatterplot(x='DISTANCE', y='AIR_TIME', hue='Trips',\n",
        "                data=aaa[aaa['ORIGIN_AIRPORT']==origin_air_flights.iloc[-3,0]],\n",
        "                alpha=0.2, linewidth=0, ax=ax3, legend=False)\n",
        "plt.xlabel('Distance in Miles')\n",
        "plt.ylabel('Flight Duration in Air in Minutes')\n",
        "plt.title(origin_air_flights.iloc[-3,3])\n",
        "ax4 = fig.add_subplot(1,5,4)\n",
        "sns.scatterplot(x='DISTANCE', y='AIR_TIME', hue='Trips',\n",
        "                data=aaa[aaa['ORIGIN_AIRPORT']==origin_air_flights.iloc[-4,0]],\n",
        "                alpha=0.2, linewidth=0, ax=ax4, legend=False)\n",
        "plt.xlabel('Distance in Miles')\n",
        "plt.ylabel('Flight Duration in Air in Minutes')\n",
        "plt.title(origin_air_flights.iloc[-4,3])\n",
        "ax5 = fig.add_subplot(1,5,5)\n",
        "sns.scatterplot(x='DISTANCE', y='AIR_TIME', hue='Trips',\n",
        "                data=aaa[aaa['ORIGIN_AIRPORT']==origin_air_flights.iloc[-5,0]],\n",
        "                alpha=0.2, linewidth=0, ax=ax5, legend=False)\n",
        "plt.xlabel('Distance in Miles')\n",
        "plt.ylabel('Flight Duration in Air in Minutes')\n",
        "plt.title(origin_air_flights.iloc[-5,3])\n",
        "plt.tight_layout()\n",
        "plt.show()"
      ],
      "metadata": {
        "id": "jcGuRn3Lizri"
      },
      "execution_count": null,
      "outputs": []
    },
    {
      "cell_type": "markdown",
      "source": [
        "**Observations**\n",
        "\n",
        "\n",
        "```\n",
        "Now, it is even more clear that the gaps detected earlier are originated from the clusters of trips.\n",
        "```\n",
        "\n"
      ],
      "metadata": {
        "id": "EcSkGeiljFMy"
      }
    },
    {
      "cell_type": "code",
      "source": [
        "cleaned_flights.head()"
      ],
      "metadata": {
        "id": "88ZIwnvli_HU"
      },
      "execution_count": null,
      "outputs": []
    },
    {
      "cell_type": "code",
      "source": [
        "cleaned_flights.shape"
      ],
      "metadata": {
        "id": "B8cXLxgNdtKh"
      },
      "execution_count": null,
      "outputs": []
    },
    {
      "cell_type": "code",
      "source": [
        "# Creating Date in the Datetime format\n",
        "cleaned_flights['Date'] = pd.to_datetime(cleaned_flights[['YEAR','MONTH','DAY']])\n",
        "cleaned_flights.Date"
      ],
      "metadata": {
        "id": "WVLQUp2meh2e"
      },
      "execution_count": null,
      "outputs": []
    },
    {
      "cell_type": "code",
      "source": [
        "cleaned_flights=cleaned_flights.drop(['YEAR','MONTH','DAY'],axis=1)"
      ],
      "metadata": {
        "id": "Zbn_fvD3fGSy"
      },
      "execution_count": null,
      "outputs": []
    },
    {
      "cell_type": "code",
      "source": [
        "cleaned_flights.head()"
      ],
      "metadata": {
        "id": "c6Tqpf2QfPWY"
      },
      "execution_count": null,
      "outputs": []
    },
    {
      "cell_type": "code",
      "source": [
        "obj_data=cleaned_flights.select_dtypes(include='object')"
      ],
      "metadata": {
        "id": "Y0WeGUiifaT7"
      },
      "execution_count": null,
      "outputs": []
    },
    {
      "cell_type": "code",
      "source": [
        "obj_data.apply(lambda x : len(x.unique()))"
      ],
      "metadata": {
        "id": "WNLKuaVvntO7"
      },
      "execution_count": null,
      "outputs": []
    },
    {
      "cell_type": "code",
      "source": [
        "cleaned_flights=cleaned_flights.drop(['TAIL_NUMBER','ORIGIN_AIRPORT','DESTINATION_AIRPORT','Trips','Date'],axis=1)"
      ],
      "metadata": {
        "id": "Obbz5hBFn2gz"
      },
      "execution_count": null,
      "outputs": []
    },
    {
      "cell_type": "code",
      "source": [
        "cleaned_flights=cleaned_flights.drop(['Date'],axis=1)"
      ],
      "metadata": {
        "id": "1oYdeZlXsd8s"
      },
      "execution_count": null,
      "outputs": []
    },
    {
      "cell_type": "code",
      "source": [
        "from sklearn.preprocessing import StandardScaler\n",
        "from sklearn.model_selection import train_test_split\n",
        "from sklearn.preprocessing import LabelEncoder"
      ],
      "metadata": {
        "id": "apMb3M6arn88"
      },
      "execution_count": null,
      "outputs": []
    },
    {
      "cell_type": "code",
      "source": [
        "le = LabelEncoder()"
      ],
      "metadata": {
        "id": "co60tI1bsil4"
      },
      "execution_count": null,
      "outputs": []
    },
    {
      "cell_type": "code",
      "source": [
        "cleaned_flights['AIRLINE']= le.fit_transform(cleaned_flights['AIRLINE'])"
      ],
      "metadata": {
        "id": "yZf60MrFsp0u"
      },
      "execution_count": null,
      "outputs": []
    },
    {
      "cell_type": "code",
      "source": [
        "X = cleaned_flights.drop('ARRIVAL_DELAY',axis = 1)\n",
        "X.shape"
      ],
      "metadata": {
        "id": "kgFm-K1xrtKj"
      },
      "execution_count": null,
      "outputs": []
    },
    {
      "cell_type": "code",
      "source": [
        "y = cleaned_flights['ARRIVAL_DELAY']\n",
        "y.head"
      ],
      "metadata": {
        "id": "vVkflsBsr7vF"
      },
      "execution_count": null,
      "outputs": []
    },
    {
      "cell_type": "code",
      "source": [
        "# Splitting into train and test data set\n",
        "X_train,X_test,y_train,y_test = train_test_split(X,y,test_size=0.3,random_state = 2)"
      ],
      "metadata": {
        "id": "B2tvi5SKsB-t"
      },
      "execution_count": null,
      "outputs": []
    },
    {
      "cell_type": "code",
      "source": [
        "sc1=StandardScaler()\n",
        "X_train_sc=sc1.fit_transform(X_train)\n",
        "X_test_sc=sc1.transform(X_test)"
      ],
      "metadata": {
        "id": "FvSIdo39sNc8"
      },
      "execution_count": null,
      "outputs": []
    }
  ]
}